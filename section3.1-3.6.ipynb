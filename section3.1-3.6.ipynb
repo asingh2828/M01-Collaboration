{
 "cells": [
  {
   "cell_type": "code",
   "execution_count": 1,
   "id": "84008d99-83f0-4c39-9723-96c882dd8f10",
   "metadata": {},
   "outputs": [
    {
     "name": "stdout",
     "output_type": "stream",
     "text": [
      "Seconds in an hour: 3600\n",
      "Seconds per hour: 3600\n",
      "Seconds in a day: 86400\n",
      "Seconds per day: 86400\n",
      "Seconds per day (float division): 24.0\n",
      "Seconds per day (integer division): 24\n"
     ]
    }
   ],
   "source": [
    "# 3.1\n",
    "seconds_per_minute = 60\n",
    "minutes_per_hour = 60\n",
    "seconds_per_hour = seconds_per_minute * minutes_per_hour\n",
    "print(\"Seconds in an hour:\", seconds_per_hour)\n",
    "\n",
    "# 3.2\n",
    "seconds_per_hour = seconds_per_minute * minutes_per_hour\n",
    "print(\"Seconds per hour:\", seconds_per_hour)\n",
    "\n",
    "# 3.3\n",
    "hours_per_day = 24\n",
    "seconds_per_day = seconds_per_hour * hours_per_day\n",
    "print(\"Seconds in a day:\", seconds_per_day)\n",
    "\n",
    "# 3.4\n",
    "seconds_per_day = seconds_per_hour * hours_per_day\n",
    "print(\"Seconds per day:\", seconds_per_day)\n",
    "\n",
    "# 3.5\n",
    "seconds_per_day = seconds_per_hour * hours_per_day\n",
    "seconds_per_hour = seconds_per_minute * minutes_per_hour\n",
    "seconds_per_day_float_division = seconds_per_day / seconds_per_hour\n",
    "print(\"Seconds per day (float division):\", seconds_per_day_float_division)\n",
    "\n",
    "# 3.6\n",
    "seconds_per_day = seconds_per_hour * hours_per_day\n",
    "seconds_per_hour = seconds_per_minute * minutes_per_hour\n",
    "seconds_per_day_integer_division = seconds_per_day // seconds_per_hour\n",
    "print(\"Seconds per day (integer division):\", seconds_per_day_integer_division)\n"
   ]
  },
  {
   "cell_type": "code",
   "execution_count": null,
   "id": "65e66fc5-58f1-446d-af5c-d76976e12990",
   "metadata": {},
   "outputs": [],
   "source": []
  }
 ],
 "metadata": {
  "kernelspec": {
   "display_name": "Python 3 (ipykernel)",
   "language": "python",
   "name": "python3"
  },
  "language_info": {
   "codemirror_mode": {
    "name": "ipython",
    "version": 3
   },
   "file_extension": ".py",
   "mimetype": "text/x-python",
   "name": "python",
   "nbconvert_exporter": "python",
   "pygments_lexer": "ipython3",
   "version": "3.11.7"
  }
 },
 "nbformat": 4,
 "nbformat_minor": 5
}
